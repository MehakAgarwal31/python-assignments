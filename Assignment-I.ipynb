{
 "cells": [
  {
   "cell_type": "code",
   "execution_count": 1,
   "id": "4fc41bcb-1f68-42d9-9009-573b4930efb4",
   "metadata": {},
   "outputs": [],
   "source": [
    " # Q1. Explain the key features of python that make it a popular choice for programming?"
   ]
  },
  {
   "cell_type": "code",
   "execution_count": 4,
   "id": "6bd258cb-9278-4662-b6d6-ea3e1e26292a",
   "metadata": {},
   "outputs": [],
   "source": [
    "# Ans- The key features of python that make it a popular cjoice for programming are as following-\n",
    "# 1. Python is widely use in industry- Python is widely use in industry because it is dynamic in\n",
    "#    nature , It is also used for scientific research and computing (among other real-world applications).\n",
    "# 2. Widely use in data industry or data analytics.\n",
    "# 3. Python have lot of libraries - There are 1,37,000 libraries in python. A python library is piece of code \n",
    "#    that can be reused and which is well structured , well optimized. Examples - Pandas and Numpy.\n",
    "# 4. Python is easy to learn- Python is a programming language that has very simple syntax and easy to learn.\n",
    "# 5. Versatility- Python is versatile in nature. It is commonly used for web development, data analysis and \n",
    "#    visualization, scientific computing, artificial intelligence and machine learning, game development, \n",
    "#    and more.\n",
    "# 6. Readability -  Python's readability is its simple and elegant syntax. Python uses indentation to \n",
    "#    define code blocks, eliminating the need for curly braces or other symbols to delimit them. \n",
    "#    This makes the code look clean and organized, as well as easier to read and understand.\n",
    "# 7. Apython has huge active community - A python community is a people which write a code and publish in \n",
    "#    python so people can use. "
   ]
  },
  {
   "cell_type": "code",
   "execution_count": 11,
   "id": "e1c15427-81aa-4366-8105-a2bff1462da8",
   "metadata": {},
   "outputs": [],
   "source": [
    "# Q2. Describe the role of predefined keywords in Python and provide examples of how they are used in a program?"
   ]
  },
  {
   "cell_type": "code",
   "execution_count": 6,
   "id": "ee4845d8-a446-4afc-81e2-a823224c6c69",
   "metadata": {},
   "outputs": [],
   "source": [
    "# Ans- Keywords are predefined words that hold a special meaning and have specific purpose . The keywords can \n",
    "# not be use as identifiers such as variable name or function name .  They are used to define the syntax and\n",
    "# structure of the Python language. The meaning of keywords are never change."
   ]
  },
  {
   "cell_type": "code",
   "execution_count": 12,
   "id": "bd55bf01-7c21-4311-982b-85fc03a29178",
   "metadata": {},
   "outputs": [],
   "source": [
    "# \"a\" is variable and we change or assign any value to a , but in keywords we cannot assign or change value."
   ]
  },
  {
   "cell_type": "code",
   "execution_count": 7,
   "id": "9b254c1b-120f-462c-bca7-ba688515f1d3",
   "metadata": {},
   "outputs": [],
   "source": [
    "# For example \n",
    "a = 5"
   ]
  },
  {
   "cell_type": "code",
   "execution_count": 8,
   "id": "9373c82a-5c6f-411e-a9b9-cc3fffc0c755",
   "metadata": {},
   "outputs": [
    {
     "data": {
      "text/plain": [
       "5"
      ]
     },
     "execution_count": 8,
     "metadata": {},
     "output_type": "execute_result"
    }
   ],
   "source": [
    "a"
   ]
  },
  {
   "cell_type": "code",
   "execution_count": 132,
   "id": "cbd85be9-27a8-4575-b224-8c8329901cf5",
   "metadata": {},
   "outputs": [],
   "source": [
    "a= 9"
   ]
  },
  {
   "cell_type": "code",
   "execution_count": 133,
   "id": "865baa1d-398f-465b-9f1d-2de8d2144459",
   "metadata": {},
   "outputs": [
    {
     "name": "stdout",
     "output_type": "stream",
     "text": [
      "['False', 'None', 'True', 'and', 'as', 'assert', 'async', 'await', 'break', 'class', 'continue', 'def', 'del', 'elif', 'else', 'except', 'finally', 'for', 'from', 'global', 'if', 'import', 'in', 'is', 'lambda', 'nonlocal', 'not', 'or', 'pass', 'raise', 'return', 'try', 'while', 'with', 'yield']\n"
     ]
    }
   ],
   "source": [
    "#Examples of Keywords\n",
    "import keyword\n",
    "print(keyword.kwlist)"
   ]
  },
  {
   "cell_type": "code",
   "execution_count": 135,
   "id": "385381d2-486c-49c6-9b36-275567ca803b",
   "metadata": {},
   "outputs": [
    {
     "name": "stdout",
     "output_type": "stream",
     "text": [
      "True\n"
     ]
    }
   ],
   "source": [
    "# Example of keyword how they use in program\n",
    "if 3+2==5:\n",
    "    print(\"True\")"
   ]
  },
  {
   "cell_type": "code",
   "execution_count": 13,
   "id": "1c0b055e-d15f-4314-96cf-14a5f7c8a208",
   "metadata": {},
   "outputs": [],
   "source": [
    "# Q3. Compare and contrast mutable and immutable objects in Python with examples ?"
   ]
  },
  {
   "cell_type": "code",
   "execution_count": 136,
   "id": "85c9be6c-519d-49b3-bbbb-3708ed2e05c2",
   "metadata": {},
   "outputs": [],
   "source": [
    "# Mutable object are whose data can be change called mutable object .\n",
    "# Immutable objects are whoose data can not change."
   ]
  },
  {
   "cell_type": "code",
   "execution_count": 137,
   "id": "546bfe67-6568-47bb-9bb3-01edef068246",
   "metadata": {},
   "outputs": [],
   "source": [
    "# Mutable Objects are\n",
    "# 1. List \n",
    "# 2. Dictionaries\n",
    "# 3. Sets"
   ]
  },
  {
   "cell_type": "code",
   "execution_count": 139,
   "id": "02afa50c-78d6-4602-9595-8889ac522fa5",
   "metadata": {},
   "outputs": [],
   "source": [
    "# For Example\n",
    "list= [ \"Apple\" , \"Banana\" , \"Orange\"]"
   ]
  },
  {
   "cell_type": "code",
   "execution_count": 143,
   "id": "54dcb8ae-934c-4191-9f76-9d23341c906c",
   "metadata": {},
   "outputs": [],
   "source": [
    "list[1]= \"Grapes\""
   ]
  },
  {
   "cell_type": "code",
   "execution_count": 144,
   "id": "c864d8d6-04c2-4f82-9af1-6b55e06b446c",
   "metadata": {},
   "outputs": [
    {
     "data": {
      "text/plain": [
       "['Apple', 'Grapes', 'Orange']"
      ]
     },
     "execution_count": 144,
     "metadata": {},
     "output_type": "execute_result"
    }
   ],
   "source": [
    "list"
   ]
  },
  {
   "cell_type": "code",
   "execution_count": null,
   "id": "53bf32d3-84a8-4dea-b01b-d274c78a4a94",
   "metadata": {},
   "outputs": [],
   "source": [
    "# Immortable objects are \n",
    "# 1. Strings\n",
    "# 2. Tuples"
   ]
  },
  {
   "cell_type": "code",
   "execution_count": 146,
   "id": "f6485994-2d80-4a1d-bdab-049a71e645aa",
   "metadata": {},
   "outputs": [],
   "source": [
    "tuple=(1,2,3)"
   ]
  },
  {
   "cell_type": "code",
   "execution_count": 147,
   "id": "53fe94b1-f3ad-4304-91d9-4d01e4f56fe0",
   "metadata": {},
   "outputs": [
    {
     "ename": "TypeError",
     "evalue": "'tuple' object does not support item assignment",
     "output_type": "error",
     "traceback": [
      "\u001b[0;31m---------------------------------------------------------------------------\u001b[0m",
      "\u001b[0;31mTypeError\u001b[0m                                 Traceback (most recent call last)",
      "Cell \u001b[0;32mIn[147], line 1\u001b[0m\n\u001b[0;32m----> 1\u001b[0m \u001b[38;5;28;43mtuple\u001b[39;49m\u001b[43m[\u001b[49m\u001b[38;5;241;43m1\u001b[39;49m\u001b[43m]\u001b[49m\u001b[38;5;241m=\u001b[39m\u001b[38;5;241m4\u001b[39m\n",
      "\u001b[0;31mTypeError\u001b[0m: 'tuple' object does not support item assignment"
     ]
    }
   ],
   "source": [
    "tuple[1]=4"
   ]
  },
  {
   "cell_type": "code",
   "execution_count": 14,
   "id": "4b2d0e4c-51fa-4b51-9ad7-af9e3e9c8d74",
   "metadata": {},
   "outputs": [],
   "source": [
    "# Q4. Discuss the different types of operators in Python and provide examples of how they are used?"
   ]
  },
  {
   "cell_type": "code",
   "execution_count": null,
   "id": "c57cf320-1792-4837-be45-ab30854a50ca",
   "metadata": {},
   "outputs": [],
   "source": [
    "# Ans- For manipulating the data it need some operations and operations are perform by operator in python.\n",
    "# Python operator are special keywords or symbols that are use to perform some operations on values or \n",
    "# variables.\n",
    "# Operators are use to manage data , do computation and make decission using data.\n",
    "# Differernt type of operator are-\n",
    "# 1. Arithmetic Operator\n",
    "# 2. Comparison Operator\n",
    "# 3. Logical and or Operator\n",
    "# 4. Assignment Operator\n",
    "# 5. Membership Operator\n",
    "# 6. Bitwise Operator\n",
    "# 7. Identify Operator"
   ]
  },
  {
   "cell_type": "code",
   "execution_count": 3,
   "id": "739c8fed-c5bc-4c47-a1bc-09efda1988f7",
   "metadata": {},
   "outputs": [
    {
     "data": {
      "text/plain": [
       "15"
      ]
     },
     "execution_count": 3,
     "metadata": {},
     "output_type": "execute_result"
    }
   ],
   "source": [
    "# 1. Airthmetic Operator - Airthmetic operator are use to perform the mathematical calculation.\n",
    "# For Example - For Add\n",
    "a=5\n",
    "b=10\n",
    "a+b"
   ]
  },
  {
   "cell_type": "code",
   "execution_count": 4,
   "id": "58492571-a834-4683-a8f7-b4bcabef0dbc",
   "metadata": {},
   "outputs": [
    {
     "data": {
      "text/plain": [
       "5"
      ]
     },
     "execution_count": 4,
     "metadata": {},
     "output_type": "execute_result"
    }
   ],
   "source": [
    "# Airthmetic Operator - \n",
    "# For Example- For Sub\n",
    "c=9\n",
    "d=4\n",
    "c-d"
   ]
  },
  {
   "cell_type": "code",
   "execution_count": 5,
   "id": "ed0f3599-3fc7-4ff5-9602-c59acb854a9b",
   "metadata": {},
   "outputs": [
    {
     "data": {
      "text/plain": [
       "24"
      ]
     },
     "execution_count": 5,
     "metadata": {},
     "output_type": "execute_result"
    }
   ],
   "source": [
    "# Airthmetic Operator - \n",
    "# For Example- For Multiplication\n",
    "3*8"
   ]
  },
  {
   "cell_type": "code",
   "execution_count": 6,
   "id": "b6166616-3c11-4067-9412-4c27a3feb26f",
   "metadata": {},
   "outputs": [
    {
     "data": {
      "text/plain": [
       "3.0"
      ]
     },
     "execution_count": 6,
     "metadata": {},
     "output_type": "execute_result"
    }
   ],
   "source": [
    "# Airthmetic Operator - \n",
    "# For Example- For Dividition\n",
    "24/8"
   ]
  },
  {
   "cell_type": "code",
   "execution_count": 7,
   "id": "cab6d7c1-650d-4beb-b8d1-4b9dea8ef3d9",
   "metadata": {},
   "outputs": [
    {
     "data": {
      "text/plain": [
       "7.5"
      ]
     },
     "execution_count": 7,
     "metadata": {},
     "output_type": "execute_result"
    }
   ],
   "source": [
    "15/2"
   ]
  },
  {
   "cell_type": "code",
   "execution_count": 8,
   "id": "5dcb696f-164e-44f5-89ac-b6a59d293010",
   "metadata": {},
   "outputs": [
    {
     "data": {
      "text/plain": [
       "6"
      ]
     },
     "execution_count": 8,
     "metadata": {},
     "output_type": "execute_result"
    }
   ],
   "source": [
    "# Modulas operator - For dividing if we want to get reminder so we can use modulas operator \n",
    "# For Example - \n",
    "20%7"
   ]
  },
  {
   "cell_type": "code",
   "execution_count": 9,
   "id": "c140aac9-de3c-47e9-b15f-aa315066e397",
   "metadata": {},
   "outputs": [
    {
     "data": {
      "text/plain": [
       "4"
      ]
     },
     "execution_count": 9,
     "metadata": {},
     "output_type": "execute_result"
    }
   ],
   "source": [
    "# Airthmetic Operator - \n",
    "# For Example- For finding power\n",
    "2**2"
   ]
  },
  {
   "cell_type": "code",
   "execution_count": 10,
   "id": "446f39d9-43d6-4325-a395-8461a5ec05ad",
   "metadata": {},
   "outputs": [
    {
     "data": {
      "text/plain": [
       "64"
      ]
     },
     "execution_count": 10,
     "metadata": {},
     "output_type": "execute_result"
    }
   ],
   "source": [
    "4**3"
   ]
  },
  {
   "cell_type": "code",
   "execution_count": 11,
   "id": "52e62d23-315d-4bdb-8b98-cb1b4de33880",
   "metadata": {},
   "outputs": [
    {
     "data": {
      "text/plain": [
       "2"
      ]
     },
     "execution_count": 11,
     "metadata": {},
     "output_type": "execute_result"
    }
   ],
   "source": [
    "#Floor Operator - If you want to get value before point so the floor operator will give you value before point.\n",
    "#For Example\n",
    "26//9"
   ]
  },
  {
   "cell_type": "code",
   "execution_count": 12,
   "id": "94893327-8792-46ea-b8f6-fe50592a7290",
   "metadata": {},
   "outputs": [
    {
     "data": {
      "text/plain": [
       "True"
      ]
     },
     "execution_count": 12,
     "metadata": {},
     "output_type": "execute_result"
    }
   ],
   "source": [
    "# 2. Comparsion Operator - Comparison operator are use to compare two values in python.\n",
    "#For Example\n",
    "2==2"
   ]
  },
  {
   "cell_type": "code",
   "execution_count": 15,
   "id": "324ac6fa-fbdf-4475-a2d4-227050b9309e",
   "metadata": {},
   "outputs": [
    {
     "data": {
      "text/plain": [
       "True"
      ]
     },
     "execution_count": 15,
     "metadata": {},
     "output_type": "execute_result"
    }
   ],
   "source": [
    "2+2==4"
   ]
  },
  {
   "cell_type": "code",
   "execution_count": 16,
   "id": "e1863fe6-bc7d-40af-b5f8-a353a1627af0",
   "metadata": {},
   "outputs": [
    {
     "data": {
      "text/plain": [
       "True"
      ]
     },
     "execution_count": 16,
     "metadata": {},
     "output_type": "execute_result"
    }
   ],
   "source": [
    "86+96==182"
   ]
  },
  {
   "cell_type": "code",
   "execution_count": 17,
   "id": "c472762b-fa30-4331-a6a2-96b8edd017a5",
   "metadata": {},
   "outputs": [
    {
     "data": {
      "text/plain": [
       "False"
      ]
     },
     "execution_count": 17,
     "metadata": {},
     "output_type": "execute_result"
    }
   ],
   "source": [
    "7+2==10"
   ]
  },
  {
   "cell_type": "code",
   "execution_count": 19,
   "id": "6d2d547a-41fc-44a4-968a-73c469597163",
   "metadata": {},
   "outputs": [
    {
     "data": {
      "text/plain": [
       "True"
      ]
     },
     "execution_count": 19,
     "metadata": {},
     "output_type": "execute_result"
    }
   ],
   "source": [
    "#Not equal to- !-\n",
    "# For Example - \n",
    "8-2!=5"
   ]
  },
  {
   "cell_type": "code",
   "execution_count": 20,
   "id": "cfbc932c-e988-49dd-ab4c-43b93d761a54",
   "metadata": {},
   "outputs": [
    {
     "data": {
      "text/plain": [
       "False"
      ]
     },
     "execution_count": 20,
     "metadata": {},
     "output_type": "execute_result"
    }
   ],
   "source": [
    "10-5!=5"
   ]
  },
  {
   "cell_type": "code",
   "execution_count": 21,
   "id": "e6fbb105-d1d5-4d92-9fcd-276aa66739bd",
   "metadata": {},
   "outputs": [
    {
     "data": {
      "text/plain": [
       "True"
      ]
     },
     "execution_count": 21,
     "metadata": {},
     "output_type": "execute_result"
    }
   ],
   "source": [
    "5>2"
   ]
  },
  {
   "cell_type": "code",
   "execution_count": 22,
   "id": "2aec8255-c734-411e-a3cd-a7fdb6331692",
   "metadata": {},
   "outputs": [
    {
     "data": {
      "text/plain": [
       "True"
      ]
     },
     "execution_count": 22,
     "metadata": {},
     "output_type": "execute_result"
    }
   ],
   "source": [
    "4<8"
   ]
  },
  {
   "cell_type": "code",
   "execution_count": 23,
   "id": "924c05bb-0b5a-4533-9f48-d90b1e841a9a",
   "metadata": {},
   "outputs": [
    {
     "data": {
      "text/plain": [
       "True"
      ]
     },
     "execution_count": 23,
     "metadata": {},
     "output_type": "execute_result"
    }
   ],
   "source": [
    "a=7\n",
    "b=5\n",
    "a>=5"
   ]
  },
  {
   "cell_type": "code",
   "execution_count": 24,
   "id": "55b507af-a0d0-4dc8-b136-79288eb4fe0f",
   "metadata": {},
   "outputs": [
    {
     "data": {
      "text/plain": [
       "True"
      ]
     },
     "execution_count": 24,
     "metadata": {},
     "output_type": "execute_result"
    }
   ],
   "source": [
    "c=6\n",
    "d=6\n",
    "a>=d"
   ]
  },
  {
   "cell_type": "code",
   "execution_count": 25,
   "id": "3bacc924-24ee-44f3-ad16-1ed557c10623",
   "metadata": {},
   "outputs": [
    {
     "data": {
      "text/plain": [
       "False"
      ]
     },
     "execution_count": 25,
     "metadata": {},
     "output_type": "execute_result"
    }
   ],
   "source": [
    "e=4\n",
    "f=8\n",
    "e>=f"
   ]
  },
  {
   "cell_type": "code",
   "execution_count": 27,
   "id": "b402a398-0a27-41f5-a43e-0e73f23491cd",
   "metadata": {},
   "outputs": [
    {
     "data": {
      "text/plain": [
       "True"
      ]
     },
     "execution_count": 27,
     "metadata": {},
     "output_type": "execute_result"
    }
   ],
   "source": [
    "a=9\n",
    "b=11\n",
    "a<=b"
   ]
  },
  {
   "cell_type": "code",
   "execution_count": 28,
   "id": "6d7ec768-4a61-4846-b7f8-2bc108d590fe",
   "metadata": {},
   "outputs": [
    {
     "data": {
      "text/plain": [
       "False"
      ]
     },
     "execution_count": 28,
     "metadata": {},
     "output_type": "execute_result"
    }
   ],
   "source": [
    "c=12\n",
    "d=8\n",
    "c<=d"
   ]
  },
  {
   "cell_type": "code",
   "execution_count": 31,
   "id": "d68b1b48-176f-4121-baf1-ed071e22347d",
   "metadata": {},
   "outputs": [
    {
     "data": {
      "text/plain": [
       "True"
      ]
     },
     "execution_count": 31,
     "metadata": {},
     "output_type": "execute_result"
    }
   ],
   "source": [
    "# 3. Logical and or Operator- Logical Statement are used to combine conditional Statement\n",
    "# AND OPERATOR\n",
    "# In and operator both the statement should be true , if not it will give false.\n",
    "# For Example \n",
    "a=20\n",
    "(a>10)and(20<40)"
   ]
  },
  {
   "cell_type": "code",
   "execution_count": 32,
   "id": "77dec861-8241-4a5f-9a3c-488be774e49c",
   "metadata": {},
   "outputs": [
    {
     "data": {
      "text/plain": [
       "False"
      ]
     },
     "execution_count": 32,
     "metadata": {},
     "output_type": "execute_result"
    }
   ],
   "source": [
    "# In \"and\" operator if one statement is true and other statement is false , it will give the false.\n",
    "# For Example \n",
    "(5>2)and(5<3)"
   ]
  },
  {
   "cell_type": "code",
   "execution_count": 34,
   "id": "c86bf554-ee6f-432b-942f-c49d66f05d89",
   "metadata": {},
   "outputs": [
    {
     "data": {
      "text/plain": [
       "False"
      ]
     },
     "execution_count": 34,
     "metadata": {},
     "output_type": "execute_result"
    }
   ],
   "source": [
    "# In \"and\" operator if both the statement are false , it will give you false.\n",
    "# For Example \n",
    "(8-5==4)and(7-3==2)"
   ]
  },
  {
   "cell_type": "code",
   "execution_count": 35,
   "id": "21600958-5986-47a6-8808-1f603d634e6d",
   "metadata": {},
   "outputs": [
    {
     "data": {
      "text/plain": [
       "False"
      ]
     },
     "execution_count": 35,
     "metadata": {},
     "output_type": "execute_result"
    }
   ],
   "source": [
    "# In \"and\" operator if one statement is false and other statement is true , it will give you false.\n",
    "# For Example \n",
    "(7>9)and(9<10)"
   ]
  },
  {
   "cell_type": "code",
   "execution_count": 36,
   "id": "3695284f-5605-4820-b837-7fb9f62fefd2",
   "metadata": {},
   "outputs": [
    {
     "data": {
      "text/plain": [
       "True"
      ]
     },
     "execution_count": 36,
     "metadata": {},
     "output_type": "execute_result"
    }
   ],
   "source": [
    "#OR OPERATOR\n",
    "# In \"or\" operator if one statement is true , it will give you true\n",
    "# For Example-\n",
    "(5-4==1)or(7-1==4)\n"
   ]
  },
  {
   "cell_type": "code",
   "execution_count": 38,
   "id": "1ae4207b-259e-47d1-8f4f-cf29e2de22cd",
   "metadata": {},
   "outputs": [
    {
     "data": {
      "text/plain": [
       "True"
      ]
     },
     "execution_count": 38,
     "metadata": {},
     "output_type": "execute_result"
    }
   ],
   "source": [
    "# In \"or\" operator if both the statements are true ,so it will give you true\n",
    "# For Example-\n",
    "(9+2==11)or(7-2==5)"
   ]
  },
  {
   "cell_type": "code",
   "execution_count": 42,
   "id": "650abd9e-b92d-4695-8af4-d436cdc03019",
   "metadata": {},
   "outputs": [
    {
     "data": {
      "text/plain": [
       "False"
      ]
     },
     "execution_count": 42,
     "metadata": {},
     "output_type": "execute_result"
    }
   ],
   "source": [
    "# In \"or\" operator if both the statement are false, it will give you false\n",
    "# For Example-\n",
    "(5*4==21)or(9*3==28)"
   ]
  },
  {
   "cell_type": "code",
   "execution_count": 43,
   "id": "4d6d93fd-48f8-46b8-aa66-228a537ff0ba",
   "metadata": {},
   "outputs": [
    {
     "data": {
      "text/plain": [
       "True"
      ]
     },
     "execution_count": 43,
     "metadata": {},
     "output_type": "execute_result"
    }
   ],
   "source": [
    "# In \"or\" operator if one statement is false , and other statement is true , it will give true\n",
    "# For Example-\n",
    "(9-1==7)or(10-1==9)"
   ]
  },
  {
   "cell_type": "code",
   "execution_count": 47,
   "id": "92784199-8bc2-4f76-acdf-4d8f145e7eaa",
   "metadata": {},
   "outputs": [
    {
     "name": "stdout",
     "output_type": "stream",
     "text": [
      "False\n"
     ]
    }
   ],
   "source": [
    "# Not Operator- Nor operator is use to reverse the result\n",
    "# For Example-\n",
    "print(not(5+1==6 and 7+3==10))"
   ]
  },
  {
   "cell_type": "code",
   "execution_count": 48,
   "id": "23c3e62f-ef5d-45c7-8413-c40639c7e3f6",
   "metadata": {},
   "outputs": [
    {
     "name": "stdout",
     "output_type": "stream",
     "text": [
      "True\n"
     ]
    }
   ],
   "source": [
    "print(not(6+2==7 and 4+1==8))"
   ]
  },
  {
   "cell_type": "code",
   "execution_count": 49,
   "id": "63773960-a07e-4c9b-a5af-afdff3b50720",
   "metadata": {},
   "outputs": [],
   "source": [
    "# 4. Assignment Operator is use to assigning the value.\n",
    "# For Example\n",
    "a=5"
   ]
  },
  {
   "cell_type": "code",
   "execution_count": 50,
   "id": "cdcd83e7-b35c-4260-b36c-5e4dad6d8e12",
   "metadata": {},
   "outputs": [
    {
     "data": {
      "text/plain": [
       "5"
      ]
     },
     "execution_count": 50,
     "metadata": {},
     "output_type": "execute_result"
    }
   ],
   "source": [
    "a"
   ]
  },
  {
   "cell_type": "code",
   "execution_count": 51,
   "id": "6928234e-cf20-4591-81c2-3861f3e6fcec",
   "metadata": {},
   "outputs": [],
   "source": [
    "b=7"
   ]
  },
  {
   "cell_type": "code",
   "execution_count": 52,
   "id": "cfa89a51-c721-40ff-af33-f111a948b22a",
   "metadata": {},
   "outputs": [
    {
     "data": {
      "text/plain": [
       "7"
      ]
     },
     "execution_count": 52,
     "metadata": {},
     "output_type": "execute_result"
    }
   ],
   "source": [
    "b"
   ]
  },
  {
   "cell_type": "code",
   "execution_count": 53,
   "id": "476682ec-1bda-49fc-9d65-4d137d2bb98e",
   "metadata": {},
   "outputs": [
    {
     "data": {
      "text/plain": [
       "49"
      ]
     },
     "execution_count": 53,
     "metadata": {},
     "output_type": "execute_result"
    }
   ],
   "source": [
    "b**2"
   ]
  },
  {
   "cell_type": "code",
   "execution_count": 65,
   "id": "a09345e8-dd1a-488c-bc5b-83ec6dffadf6",
   "metadata": {},
   "outputs": [],
   "source": [
    "c=8"
   ]
  },
  {
   "cell_type": "code",
   "execution_count": 66,
   "id": "625f485c-f77b-49e9-b86a-876f6131380b",
   "metadata": {},
   "outputs": [
    {
     "data": {
      "text/plain": [
       "8"
      ]
     },
     "execution_count": 66,
     "metadata": {},
     "output_type": "execute_result"
    }
   ],
   "source": [
    "c"
   ]
  },
  {
   "cell_type": "code",
   "execution_count": 67,
   "id": "4d66d31e-2a7d-4d30-be43-8e70760fc11e",
   "metadata": {},
   "outputs": [],
   "source": [
    "c+=4"
   ]
  },
  {
   "cell_type": "code",
   "execution_count": 68,
   "id": "7c6f6f79-feb7-4154-a94b-88a92ff21ecb",
   "metadata": {},
   "outputs": [
    {
     "data": {
      "text/plain": [
       "12"
      ]
     },
     "execution_count": 68,
     "metadata": {},
     "output_type": "execute_result"
    }
   ],
   "source": [
    "c"
   ]
  },
  {
   "cell_type": "code",
   "execution_count": 69,
   "id": "39df432c-db42-4347-a230-e99b5992612a",
   "metadata": {},
   "outputs": [],
   "source": [
    "c*=2"
   ]
  },
  {
   "cell_type": "code",
   "execution_count": 70,
   "id": "8bdd1ff5-5da9-4817-8ed1-6d515269289e",
   "metadata": {},
   "outputs": [
    {
     "data": {
      "text/plain": [
       "24"
      ]
     },
     "execution_count": 70,
     "metadata": {},
     "output_type": "execute_result"
    }
   ],
   "source": [
    "c"
   ]
  },
  {
   "cell_type": "code",
   "execution_count": 71,
   "id": "39e550c9-9126-4556-b4a5-766345172d1b",
   "metadata": {},
   "outputs": [],
   "source": [
    "# 5. Membership Operator\n",
    "# Membership operators are used to test if a element is presented in an object or not.\n",
    "# For example\n",
    "a=\"mehak\""
   ]
  },
  {
   "cell_type": "code",
   "execution_count": 72,
   "id": "0387e643-32fd-41d2-9bfd-ed9aeec49a5b",
   "metadata": {},
   "outputs": [
    {
     "data": {
      "text/plain": [
       "'mehak'"
      ]
     },
     "execution_count": 72,
     "metadata": {},
     "output_type": "execute_result"
    }
   ],
   "source": [
    "a"
   ]
  },
  {
   "cell_type": "code",
   "execution_count": 74,
   "id": "966f7b85-45c5-48f1-bb91-de0c0abcb0ef",
   "metadata": {},
   "outputs": [
    {
     "data": {
      "text/plain": [
       "False"
      ]
     },
     "execution_count": 74,
     "metadata": {},
     "output_type": "execute_result"
    }
   ],
   "source": [
    "\"h\" not in a "
   ]
  },
  {
   "cell_type": "code",
   "execution_count": 75,
   "id": "cfeb379c-8628-4311-97b1-227159cf5875",
   "metadata": {},
   "outputs": [
    {
     "data": {
      "text/plain": [
       "True"
      ]
     },
     "execution_count": 75,
     "metadata": {},
     "output_type": "execute_result"
    }
   ],
   "source": [
    "\"i\" not in a "
   ]
  },
  {
   "cell_type": "code",
   "execution_count": 77,
   "id": "20e2b2e7-b6c9-4f3b-a6a1-6940957710ec",
   "metadata": {},
   "outputs": [
    {
     "data": {
      "text/plain": [
       "True"
      ]
     },
     "execution_count": 77,
     "metadata": {},
     "output_type": "execute_result"
    }
   ],
   "source": [
    "# 6. Identity Operator\n",
    "# Identity operator is use to compares the location of two object/variables.\n",
    "# It will give you True if both variables are the same object\n",
    "# For Example- \n",
    "a=5\n",
    "b=a\n",
    "b==5"
   ]
  },
  {
   "cell_type": "code",
   "execution_count": 78,
   "id": "c9934b5f-2cc8-446f-b451-f7e9c8dce69f",
   "metadata": {},
   "outputs": [
    {
     "data": {
      "text/plain": [
       "False"
      ]
     },
     "execution_count": 78,
     "metadata": {},
     "output_type": "execute_result"
    }
   ],
   "source": [
    "# It will give you False if both variables are not the same object\n",
    "# For Example-\n",
    "b=9\n",
    "c=b\n",
    "a==9"
   ]
  },
  {
   "cell_type": "code",
   "execution_count": 79,
   "id": "157b0d40-045b-4a09-b244-736f3297fc7f",
   "metadata": {},
   "outputs": [],
   "source": [
    "# 7. Bitwise Operator \n",
    "# Bitwise Operator are use to perform operations on individual bits of binary numbers."
   ]
  },
  {
   "cell_type": "code",
   "execution_count": 80,
   "id": "0b34ec50-22e8-40a5-a7cd-9b7ac603fd90",
   "metadata": {},
   "outputs": [
    {
     "data": {
      "text/plain": [
       "100"
      ]
     },
     "execution_count": 80,
     "metadata": {},
     "output_type": "execute_result"
    }
   ],
   "source": [
    "100&100"
   ]
  },
  {
   "cell_type": "code",
   "execution_count": 81,
   "id": "abdc8edc-4466-4f9c-95a5-459f293f0642",
   "metadata": {},
   "outputs": [
    {
     "data": {
      "text/plain": [
       "'0b1100100'"
      ]
     },
     "execution_count": 81,
     "metadata": {},
     "output_type": "execute_result"
    }
   ],
   "source": [
    "bin(100)"
   ]
  },
  {
   "cell_type": "code",
   "execution_count": 83,
   "id": "2a3e6348-dd4c-45fd-9700-d4d1cb7d3275",
   "metadata": {},
   "outputs": [
    {
     "data": {
      "text/plain": [
       "0"
      ]
     },
     "execution_count": 83,
     "metadata": {},
     "output_type": "execute_result"
    }
   ],
   "source": [
    "16 & 3"
   ]
  },
  {
   "cell_type": "code",
   "execution_count": 86,
   "id": "7fb74833-3891-4db1-8c4d-727cdbc2cd05",
   "metadata": {},
   "outputs": [
    {
     "data": {
      "text/plain": [
       "7"
      ]
     },
     "execution_count": 86,
     "metadata": {},
     "output_type": "execute_result"
    }
   ],
   "source": [
    "# Bitwise OR OPERATOR \n",
    "# The Bitwise or operator compares each bit and set it to 1 if one or both is 1, otherwise it is set to 0.\n",
    "# For Example\n",
    "6 | 3"
   ]
  },
  {
   "cell_type": "code",
   "execution_count": 87,
   "id": "cf3b7c2b-1ac1-4534-a9f3-31e454f08149",
   "metadata": {},
   "outputs": [],
   "source": [
    "# Q5. Explain the concept of type casting in Python with examples?"
   ]
  },
  {
   "cell_type": "code",
   "execution_count": 88,
   "id": "cfdfcfe8-41a4-4c89-88f8-49a611f94d10",
   "metadata": {},
   "outputs": [],
   "source": [
    "# Ans-Type casting /Type conversion\n",
    "# The process of changing the data type of value , object in python , in order to perform the required \n",
    "# operation, by users is known as type conversion or type casting."
   ]
  },
  {
   "cell_type": "code",
   "execution_count": null,
   "id": "b4649e33-d1ea-48fb-94ad-9f5812526f06",
   "metadata": {},
   "outputs": [],
   "source": [
    "# There are two type of type casting in python\n",
    "# 1. Python Implicit Type Conversion- In this, method, Python converts the datatype into another datatype \n",
    "# automatically users don’t have to involve in this process. \n",
    "# 2. Python Explicit Type Conversion- In this method, Python needs user involvement to convert the variable\n",
    "# data type into the required data type. \n"
   ]
  },
  {
   "cell_type": "code",
   "execution_count": 91,
   "id": "e4e53e7a-702c-47ea-b6ed-d5c1853a1d81",
   "metadata": {},
   "outputs": [],
   "source": [
    "# Examples of Type Casting in python\n",
    "# Changing String into integer - We can use int() function to change string into interger.\n",
    "# For Example\n",
    "a=\"9\"\n",
    "# Here 9 is a string because it is in double coma.\n",
    "# If we add string with integer it will give error so we need to change string into integer. \n",
    "# For that we can use (int) function.\n",
    "# (int)a - For changing a into integer."
   ]
  },
  {
   "cell_type": "code",
   "execution_count": 92,
   "id": "8187c840-1981-444f-bc36-f22c95753fc3",
   "metadata": {},
   "outputs": [
    {
     "data": {
      "text/plain": [
       "'9'"
      ]
     },
     "execution_count": 92,
     "metadata": {},
     "output_type": "execute_result"
    }
   ],
   "source": [
    "a"
   ]
  },
  {
   "cell_type": "code",
   "execution_count": 93,
   "id": "0c1e549e-4a88-40e7-a94f-0b7430817100",
   "metadata": {},
   "outputs": [
    {
     "data": {
      "text/plain": [
       "str"
      ]
     },
     "execution_count": 93,
     "metadata": {},
     "output_type": "execute_result"
    }
   ],
   "source": [
    "type(a)"
   ]
  },
  {
   "cell_type": "code",
   "execution_count": 97,
   "id": "0e9c3b68-d949-4ce0-afc9-987c16beb3fd",
   "metadata": {},
   "outputs": [
    {
     "data": {
      "text/plain": [
       "11"
      ]
     },
     "execution_count": 97,
     "metadata": {},
     "output_type": "execute_result"
    }
   ],
   "source": [
    "int(a)+2"
   ]
  },
  {
   "cell_type": "code",
   "execution_count": 101,
   "id": "a15dca87-bf54-4f71-8241-6ab7ea2316b9",
   "metadata": {},
   "outputs": [
    {
     "name": "stdout",
     "output_type": "stream",
     "text": [
      "<class 'str'>\n",
      "<class 'int'>\n"
     ]
    }
   ],
   "source": [
    "print(type(a))\n",
    "print(type(int(a)))"
   ]
  },
  {
   "cell_type": "code",
   "execution_count": 102,
   "id": "0a04c2d0-39a5-4df8-8f1c-0418ec7890b6",
   "metadata": {},
   "outputs": [],
   "source": [
    "# Changing float into integer\n",
    "# Changing float into integer - We can use int() function to change float into interger.\n",
    "# For Example\n",
    "a=2.5\n",
    "# 2.5 is a float\n",
    "# if we want to change float into integer we need to use int()"
   ]
  },
  {
   "cell_type": "code",
   "execution_count": 103,
   "id": "a4900ded-e3ea-42fa-a210-4a2e902dd736",
   "metadata": {},
   "outputs": [],
   "source": [
    "a=2.5"
   ]
  },
  {
   "cell_type": "code",
   "execution_count": 104,
   "id": "0e10cbdd-180c-4d47-84c8-da9b5422279d",
   "metadata": {},
   "outputs": [
    {
     "data": {
      "text/plain": [
       "float"
      ]
     },
     "execution_count": 104,
     "metadata": {},
     "output_type": "execute_result"
    }
   ],
   "source": [
    "type(a)"
   ]
  },
  {
   "cell_type": "code",
   "execution_count": 105,
   "id": "96e2e647-e349-4981-9cf1-64880a8fff4f",
   "metadata": {},
   "outputs": [
    {
     "data": {
      "text/plain": [
       "2"
      ]
     },
     "execution_count": 105,
     "metadata": {},
     "output_type": "execute_result"
    }
   ],
   "source": [
    "int(a)"
   ]
  },
  {
   "cell_type": "code",
   "execution_count": 107,
   "id": "686d9d86-d10a-4435-a174-c7a7e4082198",
   "metadata": {},
   "outputs": [
    {
     "name": "stdout",
     "output_type": "stream",
     "text": [
      "<class 'float'>\n",
      "<class 'int'>\n"
     ]
    }
   ],
   "source": [
    "print(type(a))\n",
    "print(type(int(a)))"
   ]
  },
  {
   "cell_type": "code",
   "execution_count": 108,
   "id": "a04ac792-255d-4032-8d80-16589fd2483f",
   "metadata": {},
   "outputs": [],
   "source": [
    "#changing integer to float\n",
    "# Changing integer to float - We can use float() function to change integer into float.\n",
    "# For Example\n",
    "a\n",
    "# 7 is a integer\n",
    "# if we want to change integer into float we need to use float()"
   ]
  },
  {
   "cell_type": "code",
   "execution_count": 109,
   "id": "faab92e6-87fe-4d18-bcc9-a28a154c5346",
   "metadata": {},
   "outputs": [],
   "source": [
    "a = 7"
   ]
  },
  {
   "cell_type": "code",
   "execution_count": 110,
   "id": "0b7eb60c-9353-4013-9c5b-acaaa15abd03",
   "metadata": {},
   "outputs": [
    {
     "data": {
      "text/plain": [
       "int"
      ]
     },
     "execution_count": 110,
     "metadata": {},
     "output_type": "execute_result"
    }
   ],
   "source": [
    "type(a)"
   ]
  },
  {
   "cell_type": "code",
   "execution_count": 111,
   "id": "ad662c9e-6c3e-416b-87a0-6fc4637c91f4",
   "metadata": {},
   "outputs": [],
   "source": [
    "b= float(a)"
   ]
  },
  {
   "cell_type": "code",
   "execution_count": 112,
   "id": "53a2e386-c3bb-4310-9d3c-2e00ef2a0642",
   "metadata": {},
   "outputs": [
    {
     "data": {
      "text/plain": [
       "7.0"
      ]
     },
     "execution_count": 112,
     "metadata": {},
     "output_type": "execute_result"
    }
   ],
   "source": [
    "b"
   ]
  },
  {
   "cell_type": "code",
   "execution_count": 113,
   "id": "be1165b4-b3c7-46eb-8cb4-5d5f9269bcdd",
   "metadata": {},
   "outputs": [
    {
     "data": {
      "text/plain": [
       "float"
      ]
     },
     "execution_count": 113,
     "metadata": {},
     "output_type": "execute_result"
    }
   ],
   "source": [
    "type(b)"
   ]
  },
  {
   "cell_type": "code",
   "execution_count": 114,
   "id": "9e3f8d5b-0145-451f-b39c-6beebae6db82",
   "metadata": {},
   "outputs": [],
   "source": [
    "#changing string to float\n",
    "# Changing string to float - We can use float() function to change string into float.\n",
    "# For Example\n",
    "a=\"7.5\"\n",
    "# Here 7.5 is a float because it is in double coma.\n",
    "# if we want to change string into float we need to use float() function."
   ]
  },
  {
   "cell_type": "code",
   "execution_count": 115,
   "id": "c6a63869-9057-45db-aba7-73e89eec66d1",
   "metadata": {},
   "outputs": [],
   "source": [
    "a=\"7.5\""
   ]
  },
  {
   "cell_type": "code",
   "execution_count": 116,
   "id": "3322bb6d-ed45-47da-b84f-b9240025dc9e",
   "metadata": {},
   "outputs": [
    {
     "data": {
      "text/plain": [
       "'7.5'"
      ]
     },
     "execution_count": 116,
     "metadata": {},
     "output_type": "execute_result"
    }
   ],
   "source": [
    "a"
   ]
  },
  {
   "cell_type": "code",
   "execution_count": 117,
   "id": "12eafacb-d24a-4040-b8ad-422da69d3f6e",
   "metadata": {},
   "outputs": [
    {
     "data": {
      "text/plain": [
       "str"
      ]
     },
     "execution_count": 117,
     "metadata": {},
     "output_type": "execute_result"
    }
   ],
   "source": [
    "type(a)"
   ]
  },
  {
   "cell_type": "code",
   "execution_count": 118,
   "id": "e4504e82-4d63-4fa3-a526-485f7aafb941",
   "metadata": {},
   "outputs": [
    {
     "data": {
      "text/plain": [
       "7.5"
      ]
     },
     "execution_count": 118,
     "metadata": {},
     "output_type": "execute_result"
    }
   ],
   "source": [
    "b=float(a)"
   ]
  },
  {
   "cell_type": "code",
   "execution_count": 120,
   "id": "c57771fb-3ce0-4b9d-9e48-e6f81a0a2dd2",
   "metadata": {},
   "outputs": [
    {
     "data": {
      "text/plain": [
       "float"
      ]
     },
     "execution_count": 120,
     "metadata": {},
     "output_type": "execute_result"
    }
   ],
   "source": [
    "type(b)"
   ]
  },
  {
   "cell_type": "code",
   "execution_count": 121,
   "id": "1774629e-6b5b-4ec3-85fe-689f845d3a96",
   "metadata": {},
   "outputs": [],
   "source": [
    "#changing integer to string\n",
    "# Changing integer to string - We can use str() function to change integer into string.\n",
    "# For Example\n",
    "a=10\n",
    "# 10 is a integer\n",
    "# if we want to change integer into string we need to use str() function."
   ]
  },
  {
   "cell_type": "code",
   "execution_count": 122,
   "id": "72eaf633-faea-46ea-8b0d-c5d02cc023cb",
   "metadata": {},
   "outputs": [],
   "source": [
    "a= 10 "
   ]
  },
  {
   "cell_type": "code",
   "execution_count": 123,
   "id": "4b491ba6-ced8-4898-9bbe-f8061d294717",
   "metadata": {},
   "outputs": [
    {
     "data": {
      "text/plain": [
       "int"
      ]
     },
     "execution_count": 123,
     "metadata": {},
     "output_type": "execute_result"
    }
   ],
   "source": [
    "type(a)"
   ]
  },
  {
   "cell_type": "code",
   "execution_count": 124,
   "id": "613de6bc-bf57-400a-8c4a-e9a3f61c0e86",
   "metadata": {},
   "outputs": [],
   "source": [
    "b=str(a)"
   ]
  },
  {
   "cell_type": "code",
   "execution_count": 125,
   "id": "abccb154-b7f5-4897-9b2d-2a332472e241",
   "metadata": {},
   "outputs": [
    {
     "data": {
      "text/plain": [
       "'10'"
      ]
     },
     "execution_count": 125,
     "metadata": {},
     "output_type": "execute_result"
    }
   ],
   "source": [
    "b"
   ]
  },
  {
   "cell_type": "code",
   "execution_count": 127,
   "id": "c296bc29-4eb5-46ee-949c-29cb801fe744",
   "metadata": {},
   "outputs": [
    {
     "data": {
      "text/plain": [
       "str"
      ]
     },
     "execution_count": 127,
     "metadata": {},
     "output_type": "execute_result"
    }
   ],
   "source": [
    "type(b)"
   ]
  },
  {
   "cell_type": "code",
   "execution_count": 145,
   "id": "af7589d0-cf29-41cc-ae8e-307555d2be46",
   "metadata": {},
   "outputs": [
    {
     "data": {
      "text/plain": [
       "'MehakAgarwal'"
      ]
     },
     "execution_count": 145,
     "metadata": {},
     "output_type": "execute_result"
    }
   ],
   "source": [
    "#Concatenation\n",
    "a=\"Mehak\"\n",
    "b=\"Agarwal\"\n",
    "a+b"
   ]
  },
  {
   "cell_type": "code",
   "execution_count": null,
   "id": "53eabbb6-0cbd-4148-8d62-d4df985389ff",
   "metadata": {},
   "outputs": [],
   "source": [
    "# Q5. How do conditional statements work in Python? Illustrate with examples?"
   ]
  },
  {
   "cell_type": "code",
   "execution_count": 148,
   "id": "25f86406-c041-4b6f-8be8-a0391503e56e",
   "metadata": {},
   "outputs": [],
   "source": [
    "# Conditional Statements are statements in Python that provide a choice for the control flow \n",
    "# based on a condition. It means that the control flow of the Python program will be decided\n",
    "# based on the outcome of the condition."
   ]
  },
  {
   "cell_type": "code",
   "execution_count": 7,
   "id": "e73e4ca9-8de6-4525-acfa-d6cf1fa5636e",
   "metadata": {},
   "outputs": [],
   "source": [
    "# 1. If Conditional Statement in Python\n",
    "# If the simple code of block is to be performed if the condition holds then the if statement is used. \n",
    "# Here the condition mentioned holds then the code of the block runs otherwise not."
   ]
  },
  {
   "cell_type": "code",
   "execution_count": 8,
   "id": "765ca499-cacc-44b5-9b51-7481063dc731",
   "metadata": {},
   "outputs": [],
   "source": [
    "# 2. If else Conditional Statements in Python\n",
    "# In a conditional if Statement the additional block of code is merged as an else statement which is \n",
    "# performed when if condition is false. "
   ]
  },
  {
   "cell_type": "code",
   "execution_count": null,
   "id": "facf6a7d-b43b-4917-80c7-268f82621168",
   "metadata": {},
   "outputs": [],
   "source": [
    "# 3. Nested if..else Conditional Statements in Python\n",
    "# Nested if..else means an if-else statement inside another if statement. \n",
    "# Or in simple words first, there is an outer if statement, and inside it another if – else statement\n",
    "# is present and such type of statement is known as nested if statement. We can use one if or else if \n",
    "# statement inside another if or else if statements."
   ]
  }
 ],
 "metadata": {
  "kernelspec": {
   "display_name": "Python 3 (ipykernel)",
   "language": "python",
   "name": "python3"
  },
  "language_info": {
   "codemirror_mode": {
    "name": "ipython",
    "version": 3
   },
   "file_extension": ".py",
   "mimetype": "text/x-python",
   "name": "python",
   "nbconvert_exporter": "python",
   "pygments_lexer": "ipython3",
   "version": "3.10.8"
  }
 },
 "nbformat": 4,
 "nbformat_minor": 5
}
